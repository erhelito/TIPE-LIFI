{
 "cells": [
  {
   "cell_type": "code",
   "execution_count": 30,
   "metadata": {},
   "outputs": [],
   "source": [
    "from math import sqrt\n",
    "import matplotlib.pyplot as plt"
   ]
  },
  {
   "cell_type": "code",
   "execution_count": 31,
   "metadata": {},
   "outputs": [],
   "source": [
    "with open(\"bonjour_5_15.csv\", 'r') as f:\n",
    "    raw_data = f.readlines()\n",
    "\n",
    "data = []\n",
    "\n",
    "for i in raw_data :\n",
    "    x,y = i.split(\",\")\n",
    "    \n",
    "    data.append([float(x), float(y)])"
   ]
  },
  {
   "cell_type": "code",
   "execution_count": 32,
   "metadata": {},
   "outputs": [],
   "source": [
    "def distance(p1, p2):\n",
    "    return sqrt((p1[0] - p2[0]) ** 2 + (p1[1] - p2[1]) ** 2)"
   ]
  },
  {
   "cell_type": "code",
   "execution_count": 33,
   "metadata": {},
   "outputs": [],
   "source": [
    "centers = [[min(point[0] for point in data), min(point[1] for point in data)],[max(point[0] for point in data), max(point[1] for point in data)]]"
   ]
  },
  {
   "cell_type": "code",
   "execution_count": 34,
   "metadata": {},
   "outputs": [],
   "source": [
    "def k_means(data, centers, n=100):\n",
    "    n_points = len(data)\n",
    "    n_clusters = len(centers)\n",
    "    \n",
    "    labels = [0] * n_points\n",
    "    \n",
    "    for _ in range(n):\n",
    "        # update labels\n",
    "        new_labels = []\n",
    "        for i in range(n_points):\n",
    "            # compute all distances, attribute new centers\n",
    "            distances = [distance(data[i], center) for center in centers]\n",
    "            new_labels.append(distances.index(min(distances)))\n",
    "\n",
    "        # update clusters\n",
    "        new_centers = []\n",
    "        for k in range(n_clusters):\n",
    "            cluster_points = [data[i] for i in range(n_points) if new_labels[i] == k]\n",
    "            if cluster_points != []: # for not empty clusters\n",
    "                mean_x = sum(point[0] for point in cluster_points) / len(cluster_points)\n",
    "                mean_y = sum(point[1] for point in cluster_points) / len(cluster_points)\n",
    "                new_centers.append([mean_x, mean_y])\n",
    "\n",
    "            else: # for empty clusters\n",
    "                new_centers.append(centers[k])\n",
    "        \n",
    "        # check for convergence\n",
    "        if new_centers == centers:\n",
    "            break\n",
    "        centers = new_centers\n",
    "        labels = new_labels\n",
    "\n",
    "    return centers, labels"
   ]
  },
  {
   "cell_type": "code",
   "execution_count": 35,
   "metadata": {},
   "outputs": [
    {
     "data": {
      "image/png": "[encoded data removed]",
      "text/plain": [
       "<Figure size 640x480 with 1 Axes>"
      ]
     },
     "metadata": {},
     "output_type": "display_data"
    }
   ],
   "source": [
    "centers, labels = k_means(data, centers, n=5000)\n",
    "\n",
    "plt.scatter([point[0] for point in data], [point[1] for point in data], c=labels, cmap='viridis', marker='+')\n",
    "plt.scatter([center[0] for center in centers], [center[1] for center in centers], c='red', marker='x', s=100, label='centers')\n",
    "plt.title(\"K-means, 2 centers\")\n",
    "plt.xlabel(\"X\")\n",
    "plt.ylabel(\"Y\")\n",
    "plt.legend()\n",
    "plt.show()"
   ]
  },
  {
   "cell_type": "code",
   "execution_count": 36,
   "metadata": {},
   "outputs": [
    {
     "data": {
      "text/plain": [
       "'0000000111000000000011100000011111111111100011111111100000011100011100000011111111111111100011100011111100000011100000000'"
      ]
     },
     "execution_count": 36,
     "metadata": {},
     "output_type": "execute_result"
    }
   ],
   "source": [
    "string = \"\"\n",
    "\n",
    "for i in labels:\n",
    "    string += str(i)\n",
    "\n",
    "string"
   ]
  }
 ],
 "metadata": {
  "kernelspec": {
   "display_name": "base",
   "language": "python",
   "name": "python3"
  },
  "language_info": {
   "codemirror_mode": {
    "name": "ipython",
    "version": 3
   },
   "file_extension": ".py",
   "mimetype": "text/x-python",
   "name": "python",
   "nbconvert_exporter": "python",
   "pygments_lexer": "ipython3",
   "version": "3.12.2"
  }
 },
 "nbformat": 4,
 "nbformat_minor": 2
}
